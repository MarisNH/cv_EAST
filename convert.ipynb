{
 "cells": [
  {
   "cell_type": "code",
   "execution_count": 1,
   "metadata": {},
   "outputs": [
    {
     "name": "stdout",
     "output_type": "stream",
     "text": [
      "/data/maris/data_EAST/jsons/DJI_20240504064817_0218_D.json\n",
      "/data/maris/data_EAST/jsons/vid1_885.json\n",
      "/data/maris/data_EAST/jsons/DJI_20240504065253_0245_D.json\n",
      "/data/maris/data_EAST/jsons/DJI_20240504064355_0198_D.json\n",
      "/data/maris/data_EAST/jsons/DJI_20240504064355_0198_D.json\n",
      "/data/maris/data_EAST/jsons/DJI_20240504064355_0198_D.json\n",
      "/data/maris/data_EAST/jsons/DJI_20240504064832_0220_D.json\n",
      "/data/maris/data_EAST/jsons/DJI_0351_6077.json\n",
      "/data/maris/data_EAST/jsons/DJI_20240504064309_0197_D.json\n",
      "/data/maris/data_EAST/jsons/DJI_20240504063629_0148_D.json\n",
      "/data/maris/data_EAST/jsons/DJI_20240504064659_0212_D.json\n",
      "/data/maris/data_EAST/jsons/DJI_0351_5310.json\n",
      "/data/maris/data_EAST/jsons/DJI_20240504064652_0211_D.json\n",
      "/data/maris/data_EAST/jsons/DJI_20240504065148_0235_D.json\n",
      "/data/maris/data_EAST/jsons/DJI_0241_1003.json\n",
      "/data/maris/data_EAST/jsons/DJI_20240504052940_0021_D.json\n"
     ]
    }
   ],
   "source": [
    "from glob import glob\n",
    "from tools import get_data\n",
    "paths = glob(\"/data/maris/data_EAST/jsons/*.json\")\n",
    "for path in paths:\n",
    "    get_data(path)"
   ]
  }
 ],
 "metadata": {
  "kernelspec": {
   "display_name": "EAST",
   "language": "python",
   "name": "python3"
  },
  "language_info": {
   "codemirror_mode": {
    "name": "ipython",
    "version": 3
   },
   "file_extension": ".py",
   "mimetype": "text/x-python",
   "name": "python",
   "nbconvert_exporter": "python",
   "pygments_lexer": "ipython3",
   "version": "3.7.12"
  }
 },
 "nbformat": 4,
 "nbformat_minor": 2
}
